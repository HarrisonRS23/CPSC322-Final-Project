{
 "cells": [
  {
   "cell_type": "markdown",
   "metadata": {},
   "source": [
    "## Name of project:\n",
    "\n",
    "### Team Members: Harrison Sheldon and Jack Kabil\n"
   ]
  },
  {
   "cell_type": "markdown",
   "metadata": {},
   "source": [
    "\n",
    "#### Dataset description\n",
    "\n",
    "[Source](https://www.kaggle.com/datasets/maso0dahmed/football-players-data)   \n",
    "Format: CSV file   \n",
    "Contents: This dataset includes a diverse range of player-specific details, such as names, nationalities, clubs, ratings, potential, positions, ages, and various skill attributes. It is an excellent resource for football enthusiasts, data analysts, and researchers interested in conducting detailed analyses, statistical studies, or machine learning projects focused on players’ performance, attributes, and career development.   \n",
    "\n",
    "#### Attributes:    \n",
    "\n",
    "The attributes that we are thinking of using are the various skill attributes such as crossing, finishing, dribbling, and much more. These are all numerical attributes and will be used alongside the players field position. Each player has a list of field positions they play which we will group into defenders, midfielders, and attackers. The field position will be the attribute that we are predicting. \n",
    "\n",
    "#### Implementation/technical merit\n",
    "\n",
    "We anticipate having challenges with trying to cut out some of the attributes from the dataset which are not relevant, this will not be particularly hard but we might have a challenge having to limit to a set of particular attributes. We also are expecting errors with the positions and how we might classify this as stated above each player has a list of multiple positions. This complicates the process a bit but we believe grouping players into defense, midfield, and attacking positions should work. It may come down to where if a play has positions from multiple groups whichever they have more in is their group. We are going to first explore feature selection by manually removing attributes that have no relevance such as birthdates and names. \n",
    "\n",
    "#### Potential impact of the results\n",
    "\n",
    "\n",
    "These results may be useful for player evaluation/recruitment, tactical planning/team composition, position specific training, career developements for players, and understanding positional trends. The main stakeholders interested in these results would be football coaches/managers, recruiters/scouts, players themselves, analysts, and sports enthusiasts/fantasy football players. \n",
    "\n"
   ]
  }
 ],
 "metadata": {
  "kernelspec": {
   "display_name": "base",
   "language": "python",
   "name": "python3"
  },
  "language_info": {
   "name": "python",
   "version": "3.12.4"
  }
 },
 "nbformat": 4,
 "nbformat_minor": 2
}
