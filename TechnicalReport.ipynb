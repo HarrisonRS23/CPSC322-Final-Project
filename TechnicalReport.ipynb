{
 "cells": [
  {
   "cell_type": "code",
   "execution_count": 1,
   "metadata": {},
   "outputs": [
    {
     "name": "stdout",
     "output_type": "stream",
     "text": [
      "10\n",
      "[1.0, 0.8, 0.8, 0.8, 0.8, 0.8, 0.8, 0.6, 0.4, 0.4]\n",
      "<mysklearn.myclassifiers.MyDecisionTreeClassifier object at 0xffff92b4b590>\n",
      "<mysklearn.myclassifiers.MyDecisionTreeClassifier object at 0xffff99a1aea0>\n",
      "<mysklearn.myclassifiers.MyDecisionTreeClassifier object at 0xffff998e3890>\n",
      "<mysklearn.myclassifiers.MyDecisionTreeClassifier object at 0xffff92be7e00>\n",
      "<mysklearn.myclassifiers.MyDecisionTreeClassifier object at 0xffff9170c1a0>\n",
      "<mysklearn.myclassifiers.MyDecisionTreeClassifier object at 0xffff9170c2c0>\n",
      "<mysklearn.myclassifiers.MyDecisionTreeClassifier object at 0xffff9170c3b0>\n",
      "<mysklearn.myclassifiers.MyDecisionTreeClassifier object at 0xffff98f06a80>\n",
      "<mysklearn.myclassifiers.MyDecisionTreeClassifier object at 0xffff92be7f20>\n",
      "<mysklearn.myclassifiers.MyDecisionTreeClassifier object at 0xffff92be7d40>\n"
     ]
    }
   ],
   "source": [
    "from mysklearn.myclassifiers import MyRandomForestClassifier\n",
    "\n",
    "X_train = [\n",
    "    [\"Senior\", \"Java\", \"no\", \"no\"],\n",
    "    [\"Senior\", \"Java\", \"no\", \"yes\"],\n",
    "    [\"Mid\", \"Python\", \"no\", \"no\"],\n",
    "    [\"Junior\", \"Python\", \"no\", \"no\"],\n",
    "    [\"Junior\", \"R\", \"yes\", \"no\"],\n",
    "    [\"Junior\", \"R\", \"yes\", \"yes\"],\n",
    "    [\"Mid\", \"R\", \"yes\", \"yes\"],\n",
    "    [\"Senior\", \"Python\", \"no\", \"no\"],\n",
    "    [\"Senior\", \"R\", \"yes\", \"no\"],\n",
    "    [\"Junior\", \"Python\", \"yes\", \"no\"],\n",
    "    [\"Senior\", \"Python\", \"yes\", \"yes\"],\n",
    "    [\"Mid\", \"Python\", \"no\", \"yes\"],\n",
    "    [\"Mid\", \"Java\", \"yes\", \"no\"],\n",
    "    [\"Junior\", \"Python\", \"no\", \"yes\"]\n",
    "]\n",
    "y_train = [\n",
    "    \"False\",\n",
    "    \"False\",\n",
    "    \"True\",\n",
    "    \"True\",\n",
    "    \"True\",\n",
    "    \"False\",\n",
    "    \"True\",\n",
    "    \"False\",\n",
    "    \"True\",\n",
    "    \"True\",\n",
    "    \"True\",\n",
    "    \"True\",\n",
    "    \"True\",\n",
    "    \"False\"]\n",
    "\n",
    "\n",
    "forest_classifier = MyRandomForestClassifier(n_trees=10)\n",
    "forest_classifier.fit(X_train, y_train)\n",
    "\n",
    "print(len(forest_classifier.trees))\n",
    "print(forest_classifier.tree_accuracies)\n",
    "for tree in (forest_classifier.trees):\n",
    "    print(tree)"
   ]
  },
  {
   "cell_type": "markdown",
   "metadata": {},
   "source": [
    "# Introduction:\n",
    "\n",
    "This section must briefly describe the dataset you used and the classification task you implemented (e.g., what were you trying to classify in the dataset). You should also briefly describe your findings (e.g., what classifier approach performed the best)."
   ]
  },
  {
   "cell_type": "markdown",
   "metadata": {},
   "source": [
    "# Data Analysis:\n",
    "\n",
    "1. Information about the dataset itself, e.g., the attributes and attribute types, the number of instances, and the attribute being used as the label.\n",
    "\n",
    "2. Relevant summary statistics about the dataset.\n",
    "\n",
    "3. Data visualizations highlighting important/interesting aspects of your dataset. Visualizations may include frequency distributions, comparisons of attributes (scatterplot, multiple frequency diagrams), box and whisker plots, etc. The goal is not to include all possible diagrams, but instead to select and highlight diagrams that provide insight about the dataset itself.\n",
    "\n",
    "4. Note that this section must describe the above (in paragraph form) and not just provide diagrams and statistics. Also, each figure included must have a figure caption (Figure number and textual description) that is referenced from the text (e.g., “Figure 2 shows a frequency diagram for ...”)."
   ]
  },
  {
   "cell_type": "markdown",
   "metadata": {},
   "source": [
    "# Classification Results: \n",
    "\n",
    "This section should describe the classification approach you developed and its performance. Explain what techniques you used, briefly how you designed and implemented the classifiers, how you evaluated your classifiers’ predictive ability, and how well the classifiers performed. Thoroughly describe how you evaluated performance, the comparison results, and which classifier is “best”.\n"
   ]
  },
  {
   "cell_type": "markdown",
   "metadata": {},
   "source": [
    "# Classification Web App \n",
    "\n",
    " Create a Flask web app with this “best” classifier deployed with an API interface. For the base project (i.e., not bonus), your web app only has to run locally. Part of the bonus is to deploy your web app:\n",
    "\n",
    "1. BONUS (5 pts): Deploy your Flask web app to a free hosting service such as Render (you do not have to use Render, you may use a different service if you wish). In your repo README.md and your project report, include a link to a deployed web app hosting your Flask app.\n",
    "2. BONUS (3 pts): Add a user interface to your Flask web app on the index/homepage. The interface should allow the user to enter in attribute values for an unseen instance via a form, press a “Predict” button, and see the prediction for the instance. See the completed Flask-App-Demo repo on Github for a template of how to do this with Flask and a POST request (I will post this after we cover it in class)."
   ]
  },
  {
   "cell_type": "markdown",
   "metadata": {
    "vscode": {
     "languageId": "plaintext"
    }
   },
   "source": [
    "# Conclusion: \n",
    "Provide a brief conclusion of your project, including a short summary of the dataset you used (and any of its inherent challenges for classification), the classification approach you developed, your classifiers’ performance, and any ideas you have on ways to improve its performance. "
   ]
  },
  {
   "cell_type": "markdown",
   "metadata": {},
   "source": [
    "# Acknowledgments: \n",
    "This is where you should cite your sources, including any data, code, or materials that are outside of the scope of CPSC 322 (including previous course projects) that you used. As per the course syllabus, you also need to acknowledge any use of AI."
   ]
  }
 ],
 "metadata": {
  "kernelspec": {
   "display_name": "base",
   "language": "python",
   "name": "python3"
  },
  "language_info": {
   "codemirror_mode": {
    "name": "ipython",
    "version": 3
   },
   "file_extension": ".py",
   "mimetype": "text/x-python",
   "name": "python",
   "nbconvert_exporter": "python",
   "pygments_lexer": "ipython3",
   "version": "3.12.4"
  }
 },
 "nbformat": 4,
 "nbformat_minor": 2
}
